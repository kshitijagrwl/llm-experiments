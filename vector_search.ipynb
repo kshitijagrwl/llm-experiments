{
 "cells": [
  {
   "cell_type": "code",
   "execution_count": 1,
   "id": "3dafec07-f545-44a0-a99a-adab3d0d1448",
   "metadata": {},
   "outputs": [],
   "source": [
    "from langchain.embeddings.sentence_transformer import SentenceTransformerEmbeddings\n",
    "from langchain.text_splitter import CharacterTextSplitter\n",
    "from langchain.vectorstores import Chroma\n",
    "from langchain.document_loaders import TextLoader\n",
    "from langchain.document_loaders import DataFrameLoader\n",
    "\n",
    "import pandas as pd"
   ]
  },
  {
   "cell_type": "code",
   "execution_count": null,
   "id": "2206790f-8438-4c00-b7c6-11672ae83215",
   "metadata": {},
   "outputs": [],
   "source": [
    "df = pd.read_csv('data/detailed_info.csv')\n",
    "loader = DataFrameLoader(df, page_content_column=\"notes\")\n",
    "data = loader.load()\n"
   ]
  },
  {
   "cell_type": "code",
   "execution_count": null,
   "id": "90d2617c-cce1-4f6c-8111-d006d8badcb4",
   "metadata": {},
   "outputs": [],
   "source": [
    "embedding_function = SentenceTransformerEmbeddings(model_name=\"all-MiniLM-L6-v2\")\n",
    "vectorstore = Chroma.from_documents(data, embedding_function)"
   ]
  },
  {
   "cell_type": "markdown",
   "id": "c1dfa4d5-8496-4ed3-b272-56b0786659cc",
   "metadata": {},
   "source": [
    "## Chroma vector search:\n",
    "\n",
    "1. Chroma is a wrapper around hnswlib with support for distance metrics like 'l2', 'cosine' . Default is 'cosine'\n",
    "2. Can use filters for additional filtering of data. However it is O(n) operation."
   ]
  },
  {
   "cell_type": "code",
   "execution_count": null,
   "id": "e925f99f-cff2-468d-bc64-4dac22d1639e",
   "metadata": {},
   "outputs": [],
   "source": [
    "def search(query, filter=None):\n",
    "    if filter:\n",
    "        print(f'Filter:: {filter}')\n",
    "        \n",
    "    resp = vectorstore.similarity_search_with_score(query, k=10, sort=True, filter=filter)\n",
    "\n",
    "    for d, conf in resp:\n",
    "        print(d.page_content, f\"{conf:05f}\", d.metadata)\n",
    "    \n",
    "    # return resp"
   ]
  },
  {
   "cell_type": "code",
   "execution_count": null,
   "id": "be73ed3c-8416-498e-acf5-4559bf0c03df",
   "metadata": {},
   "outputs": [],
   "source": [
    "query = \"Is there any meaning of life?\"\n",
    "\n",
    "optional_filter = {'user_id':user}\n",
    "search(query)\n"
   ]
  }
 ],
 "metadata": {
  "kernelspec": {
   "display_name": "llama",
   "language": "python",
   "name": "llama"
  },
  "language_info": {
   "codemirror_mode": {
    "name": "ipython",
    "version": 3
   },
   "file_extension": ".py",
   "mimetype": "text/x-python",
   "name": "python",
   "nbconvert_exporter": "python",
   "pygments_lexer": "ipython3",
   "version": "3.10.11"
  }
 },
 "nbformat": 4,
 "nbformat_minor": 5
}
