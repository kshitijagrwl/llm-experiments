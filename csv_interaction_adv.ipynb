{
 "cells": [
  {
   "cell_type": "code",
   "execution_count": 13,
   "id": "e49aa561-0c4a-4415-ba75-7bd45862bc9b",
   "metadata": {
    "tags": []
   },
   "outputs": [
    {
     "data": {
      "text/plain": [
       "131072"
      ]
     },
     "execution_count": 13,
     "metadata": {},
     "output_type": "execute_result"
    }
   ],
   "source": [
    "import os \n",
    "import sys\n",
    "import csv\n",
    "\n",
    "from langchain.llms import OpenAI\n",
    "# from langchain.chat_models import ChatOpenAI\n",
    "# from langchain.agents.agent_types import AgentType\n",
    "\n",
    "from langchain.embeddings.openai import OpenAIEmbeddings\n",
    "from langchain.vectorstores import Chroma\n",
    "\n",
    "csv.field_size_limit(sys.maxsize)"
   ]
  },
  {
   "cell_type": "code",
   "execution_count": 73,
   "id": "fdc669ff-0bef-47b5-83c3-64794c7a9ac0",
   "metadata": {
    "tags": []
   },
   "outputs": [
    {
     "name": "stdout",
     "output_type": "stream",
     "text": [
      "Loaded the key to environment successfully\n"
     ]
    }
   ],
   "source": [
    "def load_api_key(file_path):\n",
    "    with open(file_path, 'r') as file:\n",
    "        api_key = file.read().strip()\n",
    "    #set as environ variable \n",
    "    os.environ['OPENAI_API_KEY'] = api_key\n",
    "    print('Loaded the key to environment successfully')\n",
    "    # return api_key\n",
    "\n",
    "load_api_key('openai_api_key.csv')"
   ]
  },
  {
   "cell_type": "code",
   "execution_count": 11,
   "id": "1e92d6f6-cf8b-452f-b607-cdc437d68fa8",
   "metadata": {
    "tags": []
   },
   "outputs": [],
   "source": [
    "from langchain.text_splitter import (\n",
    "    RecursiveCharacterTextSplitter,\n",
    "    CharacterTextSplitter,\n",
    ")\n",
    "from langchain.document_loaders.csv_loader import CSVLoader"
   ]
  },
  {
   "cell_type": "markdown",
   "id": "88983d9c-49cf-4142-95e4-5cbdf4e16388",
   "metadata": {
    "tags": []
   },
   "source": [
    "## Load Data"
   ]
  },
  {
   "cell_type": "code",
   "execution_count": 62,
   "id": "7c080e6f-9f2f-47bd-8d30-cc6016db497a",
   "metadata": {
    "tags": []
   },
   "outputs": [],
   "source": [
    "loader = CSVLoader(\n",
    "                file_path='data/DAO_db.csv', \n",
    "                csv_args={\n",
    "                      # \"delimiter\":\",\",\n",
    "                      # \"fieldnames\":['has_tokens'],\n",
    "                      },\n",
    "                   source_column=\"updated_at\"\n",
    "    \n",
    "                  )\n",
    "data = loader.load()"
   ]
  },
  {
   "cell_type": "markdown",
   "id": "8d9f4328-622d-4e37-a599-76b196a04dc2",
   "metadata": {
    "tags": []
   },
   "source": [
    "## TODO\n",
    "Create a parser to convert CSV row to a doc. Extract following fields - \n",
    "1. date of creation / updation \n",
    "2. name\n",
    "3. description\n",
    "4. any other meta ?"
   ]
  },
  {
   "cell_type": "code",
   "execution_count": 67,
   "id": "1f65912b-432d-4eb7-aa8b-ee0ef794bb5e",
   "metadata": {
    "tags": []
   },
   "outputs": [
    {
     "data": {
      "text/plain": [
       "{'source': '2023-06-13T11:09:57.805Z', 'row': 1}"
      ]
     },
     "execution_count": 67,
     "metadata": {},
     "output_type": "execute_result"
    }
   ],
   "source": [
    "import json \n",
    "import ast \n",
    "\n",
    "# ast.literal_eval(data[0].page_content)\n",
    "data[1].metadata"
   ]
  },
  {
   "cell_type": "code",
   "execution_count": 38,
   "id": "b1a87d72-88f1-4a1f-91d3-440351b3f933",
   "metadata": {
    "tags": []
   },
   "outputs": [],
   "source": [
    "import pandas as pd \n",
    "\n",
    "df = pd.read_csv(\"data/DAO_db.csv\")"
   ]
  },
  {
   "cell_type": "code",
   "execution_count": 81,
   "id": "fc996f3f-8a00-467f-be1b-405b66867b37",
   "metadata": {
    "tags": []
   },
   "outputs": [],
   "source": [
    "# df['description']\n",
    "# df[:100]"
   ]
  },
  {
   "cell_type": "code",
   "execution_count": 69,
   "id": "883530c8-ad26-4137-b69f-c08a6d6287db",
   "metadata": {
    "tags": []
   },
   "outputs": [],
   "source": [
    "import pandas as pd\n",
    "from llama_index.query_engine import PandasQueryEngine"
   ]
  },
  {
   "cell_type": "code",
   "execution_count": 75,
   "id": "8921cea8-1674-41a5-a4d6-5d012622c92c",
   "metadata": {
    "tags": []
   },
   "outputs": [],
   "source": [
    "query_engine = PandasQueryEngine(df=df[:10], verbose=True)"
   ]
  },
  {
   "cell_type": "code",
   "execution_count": 79,
   "id": "80a291ff-5d73-4e3f-9114-4fd91d087db8",
   "metadata": {
    "tags": []
   },
   "outputs": [
    {
     "name": "stdout",
     "output_type": "stream",
     "text": [
      "> Pandas Instructions:\n",
      "```\n",
      "\n",
      "df[df['governance'].str.contains('improvement')]['_id']\n",
      "```\n",
      "> Pandas Output: Series([], Name: _id, dtype: object)\n"
     ]
    }
   ],
   "source": [
    "response = query_engine.query(\n",
    "    \"Which dao is related to governance improvement?\",\n",
    ")"
   ]
  },
  {
   "cell_type": "code",
   "execution_count": 78,
   "id": "235cbce5-94c3-4475-bb88-ff511db9cfa6",
   "metadata": {
    "tags": []
   },
   "outputs": [
    {
     "data": {
      "text/plain": [
       "0      NaN\n",
       "1      2.0\n",
       "2      7.0\n",
       "3      NaN\n",
       "4     90.0\n",
       "5    152.0\n",
       "6     54.0\n",
       "7      NaN\n",
       "8      NaN\n",
       "9    347.0\n",
       "Name: votes, dtype: float64"
      ]
     },
     "execution_count": 78,
     "metadata": {},
     "output_type": "execute_result"
    }
   ],
   "source": [
    "df[:10]['votes']"
   ]
  },
  {
   "cell_type": "markdown",
   "id": "e6765982-27bd-4556-89d8-a463e2b54f26",
   "metadata": {
    "tags": []
   },
   "source": [
    "## Convert data into chunks"
   ]
  },
  {
   "cell_type": "code",
   "execution_count": null,
   "id": "09ac328f-0646-4968-a58a-c716aa7b4cca",
   "metadata": {
    "tags": []
   },
   "outputs": [],
   "source": [
    "text_splitter = CharacterTextSplitter(chunk_size=1000, chunk_overlap=0)\n",
    "pages = text_splitter.split_text(data[5].page_content)\n",
    "\n",
    "text_splitter = RecursiveCharacterTextSplitter(chunk_size=1000, chunk_overlap=100)\n",
    "texts = text_splitter.create_documents(pages)\n",
    "\n",
    "len(texts)"
   ]
  },
  {
   "cell_type": "code",
   "execution_count": null,
   "id": "1294c5a0-6a2c-4bd0-9bd4-c343033d2b9f",
   "metadata": {
    "tags": []
   },
   "outputs": [],
   "source": [
    "texts"
   ]
  },
  {
   "cell_type": "markdown",
   "id": "2c871353-510c-4f1e-96bd-8a696553c4f0",
   "metadata": {
    "tags": []
   },
   "source": [
    "## Embedd the documents in the vectorstor "
   ]
  },
  {
   "cell_type": "code",
   "execution_count": null,
   "id": "54b91e77-f8ce-447b-b807-514c7304125c",
   "metadata": {
    "tags": []
   },
   "outputs": [],
   "source": [
    "embeddings = OpenAIEmbeddings(openai_api_key=OPENAI_API_KEY, model=\"text-embedding-ada-002\")\n",
    "vectorstore = Chroma.from_documents(data,embedding=embeddings, persist_directory=\"./chroma_db_pdf\")"
   ]
  },
  {
   "cell_type": "code",
   "execution_count": null,
   "id": "54d35e49-6a7a-46eb-bc96-886b01f3183a",
   "metadata": {
    "tags": []
   },
   "outputs": [],
   "source": []
  },
  {
   "cell_type": "code",
   "execution_count": null,
   "id": "aacb4bda-6b55-4761-89e4-da505ed6abd1",
   "metadata": {
    "tags": []
   },
   "outputs": [],
   "source": [
    "from langchain.chains import RetrievalQA\n",
    "from langchain.indexes import VectorstoreIndexCreator\n",
    "from langchain.text_splitter import CharacterTextSplitter\n",
    "from langchain.embeddings import OpenAIEmbeddings\n",
    "from langchain.vectorstores import Chroma\n",
    "\n",
    "retriever = vectorstore.as_retriever(search_type=\"similarity\", search_kwargs={\"k\":2})\n",
    "\n",
    "# create a chain to answer questions \n",
    "qa = RetrievalQA.from_chain_type(\n",
    "    llm=OpenAI(openai_api_key=OPENAI_API_KEY), \n",
    "    chain_type=\"stuff\", \n",
    "    retriever=retriever, \n",
    "    return_source_documents=True,\n",
    "    verbose=True)"
   ]
  },
  {
   "cell_type": "code",
   "execution_count": null,
   "id": "47cf467e-8275-4129-9d05-6d4c5ac29bc6",
   "metadata": {
    "tags": []
   },
   "outputs": [],
   "source": [
    "def print_res(res):\n",
    "    print(res['result'])\n",
    "    print(\"Docs::\")\n",
    "    for i, doc in enumerate(res[\"source_documents\"]):\n",
    "        print(f'{i}')\n",
    "        print(doc.page_content)"
   ]
  },
  {
   "cell_type": "code",
   "execution_count": null,
   "id": "a1dd78d3-be00-4f07-9a1a-5ff257e0c509",
   "metadata": {
    "tags": []
   },
   "outputs": [],
   "source": [
    "query = \"What all are covered in hospitalization expenses?\"\n",
    "result = qa({\"query\": query})\n",
    "\n",
    "print_res(result)"
   ]
  },
  {
   "cell_type": "code",
   "execution_count": null,
   "id": "9ce5fdae-e839-49a4-83de-8113eeecea97",
   "metadata": {
    "tags": []
   },
   "outputs": [],
   "source": [
    "result"
   ]
  },
  {
   "cell_type": "code",
   "execution_count": null,
   "id": "b100cb1b-0544-4138-884b-6f1e75a6cd6b",
   "metadata": {
    "tags": []
   },
   "outputs": [],
   "source": [
    "query = \"How to use neural networks to train Alexnet?\"\n",
    "result_02 = qa({\"query\": query})\n"
   ]
  },
  {
   "cell_type": "markdown",
   "id": "0792e314-e428-499a-b86c-d21345aacf6a",
   "metadata": {},
   "source": [
    "## Create custom document"
   ]
  },
  {
   "cell_type": "markdown",
   "id": "2d0a8b06-76d2-48f0-b952-54742e923fa8",
   "metadata": {
    "tags": []
   },
   "source": [
    "A custom document class is defined as \n",
    "\n",
    "```python\n",
    "document = Document(\n",
    "    text='text', \n",
    "    metadata={\n",
    "        'filename': '<doc_file_name>', \n",
    "        'category': '<category>'\n",
    "    }\n",
    ")\n",
    "```"
   ]
  },
  {
   "cell_type": "code",
   "execution_count": 86,
   "id": "4329e029-6f82-4af3-9198-f09c9cac3e14",
   "metadata": {
    "tags": []
   },
   "outputs": [],
   "source": [
    "filtered_df = df[['_id','created_at','name','description']]"
   ]
  },
  {
   "cell_type": "code",
   "execution_count": 121,
   "id": "04f34980-4550-40f0-a071-9a3a01a96c39",
   "metadata": {
    "tags": []
   },
   "outputs": [
    {
     "name": "stderr",
     "output_type": "stream",
     "text": [
      "/var/folders/yb/dtkk7n_92gvgf5d_vh18bz8c0000gn/T/ipykernel_44982/2883852189.py:10: SettingWithCopyWarning: \n",
      "A value is trying to be set on a copy of a slice from a DataFrame.\n",
      "Try using .loc[row_indexer,col_indexer] = value instead\n",
      "\n",
      "See the caveats in the documentation: https://pandas.pydata.org/pandas-docs/stable/user_guide/indexing.html#returning-a-view-versus-a-copy\n",
      "  filtered_df['valid'] = filtered_df['description'].apply(cleanup)\n"
     ]
    }
   ],
   "source": [
    "def cleanup(s):\n",
    "    if isinstance(s,int) or isinstance(s,float): \n",
    "        return False \n",
    "    \n",
    "    s = s.replace('DeepDAO research coming soon','')\n",
    "    \n",
    "    return len(s)>0\n",
    "\n",
    "\n",
    "filtered_df['valid'] = filtered_df['description'].apply(cleanup)\n",
    "\n"
   ]
  },
  {
   "cell_type": "code",
   "execution_count": 124,
   "id": "449398b9-5949-4edc-966e-24536302efdd",
   "metadata": {
    "tags": []
   },
   "outputs": [],
   "source": [
    "filtered_df = filtered_df[filtered_df['valid']]"
   ]
  },
  {
   "cell_type": "code",
   "execution_count": 85,
   "id": "9a5de3c7-cfc7-4db9-99b4-9d9174b49dd9",
   "metadata": {
    "tags": []
   },
   "outputs": [],
   "source": [
    "from llama_index import ListIndex, Document"
   ]
  },
  {
   "cell_type": "code",
   "execution_count": 138,
   "id": "88c50fa8-bcf5-4481-bfa1-11fb363b8453",
   "metadata": {
    "tags": []
   },
   "outputs": [],
   "source": [
    "index = ListIndex([])\n",
    "# text_chunks = \n",
    "\n",
    "doc_chunks = []\n",
    "for i, row in filtered_df[filtered_df['description'].notnull()].iterrows():\n",
    "    \n",
    "    doc = Document(\n",
    "        page_content=row['description'], \n",
    "        metadata= {\n",
    "            'id_':row['_id'], \n",
    "            'created_at':row['created_at'],\n",
    "            'name':str(row['name']).lower()\n",
    "            }\n",
    "        )\n",
    "    doc_chunks.append(doc)\n",
    "\n",
    "# # insert\n",
    "# for doc_chunk in doc_chunks:\n",
    "#     index.insert(doc_chunk)"
   ]
  },
  {
   "cell_type": "code",
   "execution_count": 101,
   "id": "38bf177b-2aed-40e1-aed1-01853766d277",
   "metadata": {
    "tags": []
   },
   "outputs": [],
   "source": [
    "from llama_index.node_parser import SimpleNodeParser"
   ]
  },
  {
   "cell_type": "code",
   "execution_count": 102,
   "id": "76d8f4a5-9da6-4db6-b1c4-d35fafcf71a6",
   "metadata": {
    "tags": []
   },
   "outputs": [],
   "source": [
    "parser = SimpleNodeParser()\n",
    "\n",
    "nodes = parser.get_nodes_from_documents(doc_chunks)"
   ]
  },
  {
   "cell_type": "code",
   "execution_count": 106,
   "id": "dc2866f4-4541-43f2-af33-6040716ec52e",
   "metadata": {
    "tags": []
   },
   "outputs": [
    {
     "name": "stdout",
     "output_type": "stream",
     "text": [
      "10,000 Zoo Gang on the Ethereum blockchain. With 20% of the Mint going to towards investing in Blue Chip NFTs\n",
      "DeepDAO research coming soon\n",
      "New Decentralized Hedge Fund\n",
      "NFTorbit.io is NFT marketplace on binance smart chain, Govern by ORBI token for DAO\n",
      "DeepDAO research coming soon\n",
      "DeepDAO research coming soon\n",
      "DeepDAO research coming soon\n",
      "DeepDAO research coming soon\n",
      "DeepDAO research coming soon\n",
      "DeepDAO research coming soon\n"
     ]
    }
   ],
   "source": [
    "for i in range(10):\n",
    "    print(nodes[i].text)"
   ]
  },
  {
   "cell_type": "code",
   "execution_count": 109,
   "id": "9a6daab8-3692-4a82-b4ab-b57d73053066",
   "metadata": {
    "tags": []
   },
   "outputs": [],
   "source": [
    "# from llama_index import LLMPredictor, VectorStoreIndex, ServiceContext\n",
    "# from langchain import OpenAI\n",
    "\n",
    "\n",
    "# # define LLM\n",
    "# llm_predictor = LLMPredictor(llm=OpenAI(temperature=0, model_name=\"text-davinci-003\"))\n",
    "\n",
    "# # configure service context\n",
    "# service_context = ServiceContext.from_defaults(llm_predictor=llm_predictor)\n",
    "\n",
    "# # build index\n",
    "# # index = VectorStoreIndex.from_documents(\n",
    "# #     documents, service_context=service_context\n",
    "# # )"
   ]
  },
  {
   "cell_type": "markdown",
   "id": "4cb51d52-1a6d-4f6c-a3df-5841520003ed",
   "metadata": {
    "tags": []
   },
   "source": [
    "## Create the embedding and service context"
   ]
  },
  {
   "cell_type": "code",
   "execution_count": 133,
   "id": "4c117ff3-c6d0-47f5-b210-a0994b798976",
   "metadata": {
    "tags": []
   },
   "outputs": [],
   "source": [
    "from langchain.embeddings.sentence_transformer import SentenceTransformerEmbeddings\n",
    "\n",
    "from llama_index import LangchainEmbedding, VectorStoreIndex, ServiceContext\n",
    "\n",
    "embedding_function = SentenceTransformerEmbeddings(model_name=\"all-MiniLM-L6-v2\")\n",
    "\n",
    "# load in HF embedding model from langchain\n",
    "embed_model = LangchainEmbedding(embedding_function)\n",
    "service_context = ServiceContext.from_defaults(embed_model=embed_model )"
   ]
  },
  {
   "cell_type": "code",
   "execution_count": 134,
   "id": "2bc2394a-10a1-4b48-bb33-105800f9b934",
   "metadata": {
    "tags": []
   },
   "outputs": [
    {
     "data": {
      "text/plain": [
       "langchain.embeddings.huggingface.HuggingFaceEmbeddings"
      ]
     },
     "execution_count": 134,
     "metadata": {},
     "output_type": "execute_result"
    }
   ],
   "source": [
    "# os.environ['OPENAI_API_KEY'] = \"random\"\n",
    "# SentenceTransformerEmbeddings"
   ]
  },
  {
   "cell_type": "code",
   "execution_count": null,
   "id": "c59f87f8-bd68-4193-b37c-4ce9670ffadb",
   "metadata": {
    "tags": []
   },
   "outputs": [],
   "source": [
    "new_index = ListIndex.from_documents(doc_chunks)\n",
    "\n",
    "# query with embed_model specified\n",
    "query_engine = new_index.as_query_engine(\n",
    "    retriever_mode=\"embedding\", \n",
    "    verbose=True, \n",
    "    service_context=service_context\n",
    ")"
   ]
  },
  {
   "cell_type": "code",
   "execution_count": null,
   "id": "26462abe-d574-4642-835b-4ab597dbc871",
   "metadata": {
    "tags": []
   },
   "outputs": [],
   "source": [
    "response = query_engine.query(\"Which DAO is related to finance?\")"
   ]
  },
  {
   "cell_type": "code",
   "execution_count": 141,
   "id": "2671c98f-24ef-48aa-b09e-9a741f5a7d08",
   "metadata": {
    "tags": []
   },
   "outputs": [],
   "source": [
    "from langchain.document_loaders import DataFrameLoader\n",
    "\n",
    "loader = DataFrameLoader(filtered_df, page_content_column=\"description\")\n",
    "\n",
    "data = loader.load()"
   ]
  },
  {
   "cell_type": "code",
   "execution_count": 142,
   "id": "08a4f49f-cec9-4423-85a2-92995407c8fc",
   "metadata": {
    "tags": []
   },
   "outputs": [],
   "source": [
    "from langchain.embeddings.sentence_transformer import SentenceTransformerEmbeddings\n",
    "from langchain.text_splitter import CharacterTextSplitter\n",
    "from langchain.vectorstores import Chroma\n",
    "from langchain.document_loaders import TextLoader\n",
    "\n",
    "# load the document and split it into chunks\n",
    "\n",
    "# create the open-source embedding function\n",
    "embedding_function = SentenceTransformerEmbeddings(model_name=\"all-MiniLM-L6-v2\")\n",
    "vectorstore = Chroma.from_documents(data, embedding_function)\n",
    "\n",
    "# retriever = vectorstore.as_retriever(search_type=\"similarity\", search_kwargs={\"k\":2})\n",
    "\n",
    "# create a chain to answer questions \n",
    "# qa = RetrievalQA.from_chain_type(\n",
    "#     llm=OpenAI(openai_api_key=OPENAI_API_KEY), chain_type=\"stuff\", retriever=retriever, return_source_documents=True, verbose=True)"
   ]
  },
  {
   "cell_type": "code",
   "execution_count": 144,
   "id": "5606cb4a-c974-435a-b5c7-3b8ef3253cf8",
   "metadata": {
    "tags": []
   },
   "outputs": [
    {
     "data": {
      "text/plain": [
       "[Document(page_content='BROWN', metadata={'_id': 'H4U7lDU6QEW/UdVpzcM8fQ==', 'created_at': '2023-06-13T11:10:01.138Z', 'name': 'Matt', 'valid': True}),\n",
       " Document(page_content='About Junjie', metadata={'_id': 'HDGZodcPRTuKD7Ia4C9IcQ==', 'created_at': '2023-06-13T11:10:51.572Z', 'name': \"Junjie's DAO\", 'valid': True}),\n",
       " Document(page_content='about shinj', metadata={'_id': 'WGLPp8cPSDypiadhkdmwSQ==', 'created_at': '2023-06-13T11:11:02.977Z', 'name': 'shinj project', 'valid': True}),\n",
       " Document(page_content='Primo Kimchi governance', metadata={'_id': '56E5QoweSKGh4ZMTHawIbw==', 'created_at': '2023-06-13T11:11:05.360Z', 'name': 'Kimchi Premium', 'valid': True})]"
      ]
     },
     "execution_count": 144,
     "metadata": {},
     "output_type": "execute_result"
    }
   ],
   "source": [
    "# query it\n",
    "query = \"Zoo Gang\"\n",
    "resp = vectorstore.similarity_search(query)\n",
    "\n",
    "resp\n",
    "# print results\n",
    "# print(resp[0].page_content)"
   ]
  },
  {
   "cell_type": "code",
   "execution_count": 145,
   "id": "feeed3e1-7b06-40b9-8788-ca2260cb541a",
   "metadata": {
    "tags": []
   },
   "outputs": [
    {
     "data": {
      "text/plain": [
       "Document(page_content='10,000 Zoo Gang on the Ethereum blockchain. With 20% of the Mint going to towards investing in Blue Chip NFTs', metadata={'_id': 'i5F0UWsNT9+dEHOQvHBlgw==', 'created_at': '2023-06-13T11:09:57.803Z', 'name': 'ZooGang Dao', 'valid': True})"
      ]
     },
     "execution_count": 145,
     "metadata": {},
     "output_type": "execute_result"
    }
   ],
   "source": [
    "data[0]"
   ]
  },
  {
   "cell_type": "code",
   "execution_count": 150,
   "id": "81ad6fce-f312-42a5-9c4a-4d033e1fd9ee",
   "metadata": {
    "tags": []
   },
   "outputs": [
    {
     "ename": "AttributeError",
     "evalue": "'Chroma' object has no attribute 'query'",
     "output_type": "error",
     "traceback": [
      "\u001b[0;31m---------------------------------------------------------------------------\u001b[0m",
      "\u001b[0;31mAttributeError\u001b[0m                            Traceback (most recent call last)",
      "Cell \u001b[0;32mIn[150], line 1\u001b[0m\n\u001b[0;32m----> 1\u001b[0m \u001b[43mvectorstore\u001b[49m\u001b[38;5;241;43m.\u001b[39;49m\u001b[43mquery\u001b[49m(query)\n",
      "\u001b[0;31mAttributeError\u001b[0m: 'Chroma' object has no attribute 'query'"
     ]
    }
   ],
   "source": [
    "vectorstore.search"
   ]
  },
  {
   "cell_type": "code",
   "execution_count": null,
   "id": "aa44b8ec-851e-4e00-89b6-97d86ff748a7",
   "metadata": {},
   "outputs": [],
   "source": []
  }
 ],
 "metadata": {
  "kernelspec": {
   "display_name": "llama",
   "language": "python",
   "name": "llama"
  },
  "language_info": {
   "codemirror_mode": {
    "name": "ipython",
    "version": 3
   },
   "file_extension": ".py",
   "mimetype": "text/x-python",
   "name": "python",
   "nbconvert_exporter": "python",
   "pygments_lexer": "ipython3",
   "version": "3.10.11"
  }
 },
 "nbformat": 4,
 "nbformat_minor": 5
}
