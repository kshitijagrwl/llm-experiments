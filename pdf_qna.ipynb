{
 "cells": [
  {
   "cell_type": "code",
   "execution_count": 1,
   "id": "e49aa561-0c4a-4415-ba75-7bd45862bc9b",
   "metadata": {
    "tags": []
   },
   "outputs": [],
   "source": [
    "import os \n",
    "import sys\n",
    "import csv\n",
    "\n",
    "from langchain.llms import OpenAI\n",
    "from langchain.chat_models import ChatOpenAI\n",
    "# from langchain.agents.agent_types import AgentType\n",
    "from langchain.llms import OpenAI\n",
    "from langchain.embeddings.openai import OpenAIEmbeddings\n",
    "from langchain.vectorstores import Chroma\n"
   ]
  },
  {
   "cell_type": "code",
   "execution_count": 11,
   "id": "40d45f50-8cf1-4d22-bb4e-c29da4e24f19",
   "metadata": {
    "tags": []
   },
   "outputs": [],
   "source": [
    "from langchain.document_loaders.pdf import PyPDFLoader\n",
    "from langchain.document_loaders.pdf import PDFMinerLoader\n",
    "from langchain.document_loaders import UnstructuredPDFLoader\n"
   ]
  },
  {
   "cell_type": "code",
   "execution_count": 3,
   "id": "1e92d6f6-cf8b-452f-b607-cdc437d68fa8",
   "metadata": {
    "tags": []
   },
   "outputs": [],
   "source": [
    "from langchain.text_splitter import (\n",
    "    RecursiveCharacterTextSplitter,\n",
    "    CharacterTextSplitter,\n",
    ")\n",
    "from langchain.vectorstores import Chroma\n"
   ]
  },
  {
   "cell_type": "markdown",
   "id": "88983d9c-49cf-4142-95e4-5cbdf4e16388",
   "metadata": {
    "tags": []
   },
   "source": [
    "## Load Data"
   ]
  },
  {
   "cell_type": "code",
   "execution_count": 12,
   "id": "7c080e6f-9f2f-47bd-8d30-cc6016db497a",
   "metadata": {
    "tags": []
   },
   "outputs": [],
   "source": [
    "loader = PyPDFLoader(file_path='data/sample_insurance.pdf')\n",
    "# loader = PDFMinerLoader(file_path='data/sample_insurance.pdf')\n",
    "\n",
    "data = loader.load()"
   ]
  },
  {
   "cell_type": "code",
   "execution_count": 13,
   "id": "6c1d00e6-5d9e-4b37-8404-eff504c7404f",
   "metadata": {
    "tags": []
   },
   "outputs": [
    {
     "data": {
      "text/plain": [
       "[Document(page_content='Sabse bada sach\\nde beneﬁts SO MUCH!\\n', metadata={'source': 'data/sample_insurance.pdf', 'page': 0}),\n",
       " Document(page_content='', metadata={'source': 'data/sample_insurance.pdf', 'page': 1}),\n",
       " Document(page_content='Introduction  \\nOptima Secure is a testament to the years of trust \\n1.5+ crore customers have bestowed upon us.It’s great when you ask for something and get more in return, \\nisn’t it? That’s why, HDFC ERGO brings to you a health insurance\\nplan that gives you SO MUCH more beneﬁts than you had asked for !\\nThe new HDFC ERGO O ptima Secure provides 4X coverage, at no \\nadditional cost, thereby redeﬁning the value you get from health \\ninsurance. It doesn’t just secure your present, but safeguards your \\nfuture as well. \\nSo Much\\nCoverage\\nSo Much\\nChoiceSo Much\\nTrust\\nSo Much\\nMore...A policy like no other.', metadata={'source': 'data/sample_insurance.pdf', 'page': 2}),\n",
       " Document(page_content='Secure Beneﬁt is a ﬁrst-of-its-kind beneﬁt of Optima Secure \\nthat doubles the insurance cover you buy, instantly and \\nautomatically. This means that you get a 2X coverage from \\nday 1, without having the need to activate or claim it, \\nat no additional cost.2X coverage from day 12X\\nSecure BeneﬁtGet So Much Coverage* Guaranteed^^ ', metadata={'source': 'data/sample_insurance.pdf', 'page': 3}),\n",
       " Document(page_content='Plus Beneﬁt is another ﬁrst-of-its-kind beneﬁt of \\nOptima Secure. With this beneﬁt, the base cover you choose \\nfor yourself automatically increases by 50% after 1 year, and \\n100% after 2 years, irrespective of any claims made. With this \\nbeneﬁt, you do not have to worry about earning a full no \\nclaim bonus or a reduced bonus in case of a claim.100% increase in coverage after 2 years Plus BeneﬁtGet So Much Coverage* Guaranteed^^ ', metadata={'source': 'data/sample_insurance.pdf', 'page': 4}),\n",
       " Document(page_content='With the Restore Beneﬁt of Optima Secure, if any claim, partial \\nor total, is made any time during the year, then 100% of the \\nbase cover gets restored in the policy cover automatically, \\nat no additional cost!100% restore coverageRestore BeneﬁtGet So Much Coverage* Guaranteed^^ ', metadata={'source': 'data/sample_insurance.pdf', 'page': 5}),\n",
       " Document(page_content='All the above beneﬁts of Optima Secure work together\\nto give 4X coverage than the chosen cover.In case of an unfortunate hospitalisation, Protect Beneﬁt of \\nOptima Secure guarantees payment of consumables, which \\ninclude listed non-medical expenses like gloves, masks, \\nnebulizer kits and so on. It’s built-in, and automatically \\navailable at no extra charge.Zero deduction on non-medical expensesProtect BeneﬁtGet So Much Coverage* Guaranteed^^ ', metadata={'source': 'data/sample_insurance.pdf', 'page': 6}),\n",
       " Document(page_content='Introduction  Let’s see how Optima Secure works\\nSecure Beneﬁt instantly makes his 10 lakhs \\nbase cover to 20 lakhs, at no extra cost.Secure Beneﬁt \\nAny time Mr. Sharma claims partial or \\ntotal 10 lakhs base cover, it gets 100% \\nrestored, making it 30+10 = 40 lakhs.Restore Beneﬁt40\\nlakhs\\nCovered\\nnon-medical\\nexpensesDuring hospitalisation, his non-medical \\nexpenses that add up to 10-20% of \\nthe total bill amount also get covered \\nby Protect Beneﬁt.Protect BeneﬁtWhen he renews the plan for 1 year, Plus \\nBeneﬁt increases his base cover of 10 lakhs \\nby 50% and in 2nd year by 100%,  making it \\n15 lakhs and 20 lakhs respectively. Plus \\nBeneﬁt and Secure Beneﬁt together take \\nthe total coverage to 30 lakhs.Plus Beneﬁt\\n20L\\n5L25L\\n5L30L\\nAf ter\\n1 yearAf ter\\n2 yearsMr. Sharma, a 35-year-old married businessman from Delhi \\nbuys an Optima Secure policy  of 10 lakhs base cover for his \\nfamily. He pays a premium of INR 24,279▲ for it.\\n410\\n+10\\n=20\\nLakhs\\n321\\n▲Rs.24,279/- premium is including tax and for a 2-member Family Floater policy with age 35 years and 30 years. Premium shown above is \\nfor Optima Secure plan for Tier 1 (Delhi, NCR, Mumbai, Thane, Mumbai Suburban and Navi Mumbai, Surat, Ahmedabad & Vadodara) which \\nincludes tax.  For calculating exact premium, please visit www.hdfcergo.com', metadata={'source': 'data/sample_insurance.pdf', 'page': 7}),\n",
       " Document(page_content='4x coverage after 2 years\\nBy opting to pay the ﬁrst INR 25,000/- \\nof claim in a policy year, Mr. Sharma gets a \\ndiscount of 25% on his premium, bringing it \\ndown to INR 18,210/- \\nWith all of these, Mr. Sharma gets access \\nto a network of nearly 10k cashless \\nhospitals + overall 97% ● claim settled\\nWith 10 lakhs base cover eventually becoming 40 lakhs, \\nMr. Sharma gets 4X coverage after 2 years.4X coverage4X\\n25% discount ', metadata={'source': 'data/sample_insurance.pdf', 'page': 8}),\n",
       " Document(page_content='Introduction  \\n60 and 180 days pre and post \\nhospitalisation covered\\nInstead of 30 and 90 days avail ed normally, Optima Secure covers \\nmedical expenses for 60 days pre and 180 days post hospitalisation.\\nThese cover tests, medicine purchases and other medical expenses that \\nMr. Sharma has incurred during these aforementioned days.\\nHome healthcare\\nThis policy covers treatment availed from comfort of homes, and as \\nper everyone’s convenience on cashless basis.\\nSo, during Mr. Sharma’s home treatment, which in normal course \\nwould have required hospitalisation, all his medical expenses \\nincluding doctor visits, nursing charges, etc. get covered by it. \\nDaily cash for shared room\\nWith this, daily cash of INR 800 per day up to a maximum of \\nINR 4800 on hospitalisation is provided as out of pocket expenses \\nwhen you choose a shared accommodation in a network hospital, \\nand the hospitalisation period exceeds 48 hours.\\nThese include all the peripheral costs incurred by Mr. Sharma or his \\ncaregiver on travelling, food, lodging and so on, which is incurred at the \\ntime of claim.So Much More Coverage', metadata={'source': 'data/sample_insurance.pdf', 'page': 9}),\n",
       " Document(page_content='E-opinion\\nSo, if Mr. Sharma chooses to take teleconsultations, or online \\nconsultations for any of the listed diseases in the policy, the expense \\nincurred gets covered by the policy.Sum Insured (in INR) 5L 10L 15L\\n1,500 2,000 4,000 5,000\\n15,000 2,500 5,000 8,000 10,0008,00020L, 25L\\n& 50L100L\\n& 200L\\nIndividual policy\\n(per insured)\\nFloater policy\\n(per policy)Preventive health check-up\\nYou will be provided preventive health check-up beneﬁts post \\ncompletion of every policy year, irrespective of claim status. \\nMr. Sharma can choose tests of his choice up to a sub-limit as \\nmentioned below for any insured person (including children).\\nGet e-opinion on 51 critical illnesses through network provider in India.\\nAYUSH treatment\\nOptima Secure covers in-patient hospitalisation expenses even for \\nalternate treatment methods viz. Ayurveda, Yoga and Naturopathy, \\nUnani, Siddha and Homeopathy.Hospitalisation expenses\\nCovers medical expenses incurred at the time of hospitalisation that \\ninclude room rent, ICU expenses, nursing expenses, surgeon’s fee, \\nroad ambulance charges and so on. It also covers all day care \\ntreatments that require hospitalisation for less than 24 hours. So Much More Coverage', metadata={'source': 'data/sample_insurance.pdf', 'page': 10}),\n",
       " Document(page_content='Domiciliary hospitalisation\\nSecures all medical expenses during Domiciliary hospitalisation. \\nOrgan donor expenses\\nGet reimbursements for medical expenses incurred for organ donor’s \\nin-patient treatment for harvesting of the organ donated.\\nEmergency air ambulance\\nThe policy pays for air ambulance transportation services during \\nyour emergency needs.\\nThis option gives discount on your premiums, by opting to pay an \\ninitial deductible amount for claims made in any policy year.\\n25,000 25%\\n40%\\n50%15%\\n30%\\n40%50,000\\n100,000Deductible AmountBase Sum Insured\\nup to 20 lakhsBase Sum Insured\\nabove 20 lakhsAggregate deductible\\nValue buy\\nYou can choose any deductible amount and enjoy up to 50% discount on your premium.\\nThe following discounts will be applicable on the policy premium:So Much More Coverage\\nSo Much Choice', metadata={'source': 'data/sample_insurance.pdf', 'page': 11}),\n",
       " Document(page_content='my:Health Critical Illness (Add-on)\\nOptima Secure does comprehensive coverage for 51 critical \\nillnesses with sum insured options of INR 100,000 to INR \\n200,00,000 and in multiples of INR 100,000.\\nmy:Health Hospital Cash Beneﬁt (Add-on)\\nGet sum insured options of INR  500/ INR  1000/ INR  1500 / \\nINR 2000/ INR  2500 / INR  3000 / INR  5000/ INR  7500/ \\nINR 10,000 to cover your out-of-pocket expenses.So, if Mr. Sharma agrees to pay the ﬁrst INR 25,000 on his claims in \\nthe policy year, he gets a discount of 25% on his insurance premium. \\nWhich means, his premium of INR 24,279 reduces to just INR 18,210 ! \\nAdd-on covers\\nDiscounts\\nFamily discount\\nGet discount of 10% if two or more family members are covered \\nunder the same policy under the individual policy option.\\nLong term discount\\nIf the policy period is more than one year, you will be entitled to \\nreceive a discount of 7.5% and 10% if the policy is purchased for\\na 2-year and 3-year tenure respectively.Loyalty discount\\nWith it, you will be eligible to get a discount of 2.5% on the base \\npremium if you have an active retail insurance policy with premium \\nabove INR 2000.So Much Choice', metadata={'source': 'data/sample_insurance.pdf', 'page': 12}),\n",
       " Document(page_content='Note: Adults can be a combination of self, spouse, parents and parents-in-law.Individual policy - A maximum of 6 adults and a maximum of 6 children \\ncan be included in a single policy having separate sum insured individually.Wide coverage choice\\nCoverage\\nChoose between wide range of base coverage from INR \\n5 lakhs to 2 crores\\nTenure\\nYou can select policy tenure from 1 to 3 years according to \\nyour convenience.Family Floater -  A maximum of 4 adults and a maximum of 6 children \\ncan be included in a single policy having a common sum insured. \\nMinimum Age -  The minimum entry age for a dependent child (who is, \\nnatural or legally adopted) is 91 days and maximum entry age is 25 \\nyears.\\nMaximum Age -  The maximum entry age is 65 years. There is no \\nmaximum cover ceasing age in this policy.Policy options\\nAge limitIntroduction  \\nAGESo Much Choice', metadata={'source': 'data/sample_insurance.pdf', 'page': 13}),\n",
       " Document(page_content='Network hospitals\\nNearly 10,000 cashless network hospitals**\\nQuick claim settlement\\n1 claim settled every minute^\\n1\\nMINUTECustomer service\\n24x7 call centre servicing in 10 languages\\nClaim settlement\\nINR 7,500+ crores claims settled#\\nTrust of millions\\nTrust of 1.5+ crores happy customers@Quick claim payment\\nGet quick claim settlements, to honour every genuine claim. Quick turnaround time\\nOffers quick turnaround time, reducing pre-authorisation hurdles. \\nNumber of Claim\\n1st claim 3,00,000 3,00,000 Base(partial)\\nBase(balance)+Plus+\\nSecure+ Automatic\\nRestore(partial)\\nAutomatic Restore\\n(partial)5,00,000\\n2,00,0002,50,000\\n2,50,0005,00,000 0\\n5,00,000 3,00,000 12,50,000\\n2,00,000 2,00,00014,00,000\\n3,00,0002nd claim\\n3rd claimClaim Amount Base Sum\\nInsuredPlus\\nBeneﬁtSecure\\nBeneﬁtRestore\\nBeneﬁtAdmissible\\nclaim amountUtilisation of Sum\\nInsured\\n- - -\\nOptima Secure plan with second policy year in progress \\nA single claim in a Policy Year cannot exceed the sum of Base Sum Insured, \\nPlus Beneﬁt (if applicable) and Secure beneﬁt.Illustration of Sum Insured utilisationSo Much Trust', metadata={'source': 'data/sample_insurance.pdf', 'page': 14}),\n",
       " Document(page_content='100% of Base Sum Insured\\nUp to Sum Insured\\nIrrespective of claim status, increase of 50% of \\nBase Sum Insured in a policy year, maximum up to 100%\\nUp to 100% of Base Sum Insured for any illness \\nany insured person\\nRoad: Up to Sum Insured        Air: Up to 500,000\\n800 per day (max up to 4,800)\\nOnce per insured person (for 51 deﬁned major illnesses)5/10/15/20/25/50/100/200\\nSum Insured less than 50L : Up to single AC private room\\nSum Insured 50L and above:  All room types covered\\nUp to Sum InsuredOptima Secure\\nSecure Beneﬁt\\nProtect Beneﬁt\\nPlus Beneﬁt\\nRestore Beneﬁt\\nEmergency Ambulance\\nDaily Cash for Choosing \\nShared Accommodation\\nE-Opinion for Critical Illness Base Sum Insured (in Lakhs)\\nRoom Rent\\nHospitalisation Expenses\\nAYUSH Treatment\\nHome Healthcare\\nOrgan Donor Expenses\\nPre-Hospitalisation (60 days)\\nPost-Hospitalisation (180 days)Plan NameSchedule of beneﬁts (all limits are in INR)Introduction  So Much Trust', metadata={'source': 'data/sample_insurance.pdf', 'page': 15}),\n",
       " Document(page_content='Lifelong renewal\\nRenew your insurance cover for life.\\nNo geography-based co-payment\\nWith this, get treated in any city across India without any co-payment, \\nand irrespective of where you bought the policy from.\\nNo claim-based loading\\nNo loading of renewal premium just because you claimed it or fell ill \\nafter taking the policy.Tax savings\\nGet income tax beneﬁts under section 80D of the Income Tax Act°\\nCashless transactions\\nGet treatment on a cashless basis across nearly 10,000 cashless \\nnetwork hospitals.So Much More', metadata={'source': 'data/sample_insurance.pdf', 'page': 16}),\n",
       " Document(page_content=\"Life-long renewal- Get access to life-long renewal regardless of your \\nhealth status or previous claims made under your policy, except on \\ngrounds of fraud or misrepresentation by the insured person.\\nWaiting period- The waiting periods mentioned in the policy wording will \\nget reduced by 1 year on every continuous renewal of your policy. \\nRenewal premium- These are subject to change with prior approval from \\nIRDAI. Any change in beneﬁts or premium (other than due to change in \\nage) will be done with the approval of the Insurance Regulatory and \\nDevelopment Authority and will be intimated at least 3 months in advance. \\nWithdrawal of policy- In the likelihood of this policy being withdrawn in \\nfuture, intimation will be sent to insured person about the same 3 months \\nprior to expiry of the policy. Insured person will have the option to migrate \\nto similar indemnity health insurance policy available at the time of \\nrenewal with all the accrued continuity beneﬁts, waiver of waiting period \\netc; provided the policy has been maintained without a break as per \\nportability/migration guidelines issued by IRDAI. \\nMigration- Any insured person in the policy has the option to migrate to \\nsimilar indemnity health insurance policy available at the time of renewal \\nsubject to underwriting with all the accrued continuity beneﬁts, waiver of \\nwaiting period etc; provided the policy has been maintained without a \\nbreak as per portability/migration guidelines issued by IRDAI.\\nPortability- This plan offers you easy portability. So, if you are insured \\nunder another insurer's health insurance policy you can transfer to HDFC \\nERGO General Insurance Company Limited with all your accrued beneﬁts \\nat the time of renewal subject to underwriting guidelines, after due \\nallowances for waiting periods and enjoy so much coverage.Terms of renewal\\n\", metadata={'source': 'data/sample_insurance.pdf', 'page': 17}),\n",
       " Document(page_content='Standard exclusions \\nInvestigation and evaluation purposes | Obesity control | Cosmetic \\nsurgery | Hazardous sports | Breach of Law | Alcoholism, drug or \\nsubstance abuse | Unproven treatments | Sterility and infertility | \\nMaternity\\nWaiting periods \\n30 days initial waiting period | 24 months waiting period on speciﬁc \\nillnesses & surgical procedures | 36 months waiting period on \\npre-existing diseases\\nFor complete list please refer the policy wordings.\\nIntroduction  Standard excl usions and waiting period s\\nSo, get access to SO MUCH beneﬁts\\nwith your Optima Secure, today!Section 41 of Insurance Act 1938 (Prohibition of Rebates):\\n1. No person shall allow or offer to allow, either directly or indirectly, as \\nan inducement to any person to take or renew or continue an insurance \\nin respect of any kind of risk relating to lives or property in India, any \\nrebate of the whole or part of the commission payable or any rebate of \\npremium shown on the policy, nor shall any person taking out or \\nrenewing or continuing a policy accept any rebate, except such rebate \\nas may be allowed in accordance with the prospectus or tables of \\nthe insurers.\\n2. Any person making default in complying \\nwith the provision of this section shall be\\npunishable with ﬁne which may extend to\\nTen Lakh Rupees.', metadata={'source': 'data/sample_insurance.pdf', 'page': 18}),\n",
       " Document(page_content=\"Terms & Conditions Apply. *4X coverage means base Sum Insured + Plus Beneﬁt (after 2 Policy Years) + Secure Beneﬁt + Automatic Restore Beneﬁt. Under Plus \\nBeneﬁt, irrespective of claims means sum insured gets increased by 50% of base sum insured per year maximum up to 100%. A single claim in a Policy Year cannot \\nexceed the sum of Base Sum Insured, Plus Beneﬁt (if applicable) and Secure Beneﬁt. Please refer the list of Non Medical Expenses speciﬁed in the policy wording. \\nHome health care available only on cashless basis in select cities only. Daily cash in case of hospitalization for more than 48 hours in a Network Hospital's shared \\naccommodation. Preventive health check-ups at each renewal of the Policy. E-opinion available through the Network Provider only. For additional covers, additional \\npremium will be charged. 25% premium discount is applicable for Sum Insured up to INR 20 lakhs. ^^Get Guaranteed Secure, Plus, Protect and Restore Beneﬁts. Up \\nto 50% discount available by choosing option of Aggregate deductible of Rs. 1 lakh up to Base Sum Insured of equal to or less than 20 lakhs. •Based on claims of \\nFY 2020-2021. **Available in select cities only in India. ^Based on claims reported in FY 2020-2021 (working days). #Figure as on 31st March 2021. @Figure as on \\n30th September 2020. °Subject to change in tax laws. HDFC ERGO General Insurance Company Limited. IRDAI Reg. No. 146. CIN: U66030MH2007PLC177117. \\nRegistered & Corporate Office: 1st Floor, HDFC House, 165-166 Backbay Reclamation, H. T. Parekh Marg, Churchgate, Mumbai – 400 020. For more details on the risk \\nfactors, terms and conditions, please read the sales brochure / prospectus before concluding the sale. Trade Logo displayed above belongs to HDFC Ltd and ERGO \\nInternational AG and used by the Company under license. UIN: my: Optima Secure - HDFHLIP21016V012122 | my:Health Critical Illness - HDFHLIA21466V022021 | \\nmy:Health Hospital Cash Beneﬁt (Add-on) - HDFHLIA21271V022021. UID: 8429. \\nPrinting code: OPTIMASECURE/BROCHURE/305/JUNE2021 For more details, log on to www.hdfcergo.com or call us on 022 6242 6242 \", metadata={'source': 'data/sample_insurance.pdf', 'page': 19})]"
      ]
     },
     "execution_count": 13,
     "metadata": {},
     "output_type": "execute_result"
    }
   ],
   "source": [
    "data"
   ]
  },
  {
   "cell_type": "markdown",
   "id": "e6765982-27bd-4556-89d8-a463e2b54f26",
   "metadata": {
    "tags": []
   },
   "source": [
    "## Convert data into chunks"
   ]
  },
  {
   "cell_type": "code",
   "execution_count": 25,
   "id": "c1e1ac18-c9ef-4666-b81a-6b08db54dc70",
   "metadata": {
    "tags": []
   },
   "outputs": [
    {
     "data": {
      "text/plain": [
       "1"
      ]
     },
     "execution_count": 25,
     "metadata": {},
     "output_type": "execute_result"
    }
   ],
   "source": [
    "text_splitter = CharacterTextSplitter(chunk_size=1000, chunk_overlap=0)\n",
    "pages = text_splitter.split_text(data[5].page_content)\n",
    "\n",
    "text_splitter = RecursiveCharacterTextSplitter(chunk_size=1000, chunk_overlap=100)\n",
    "texts = text_splitter.create_documents(pages)\n",
    "\n",
    "len(texts)\n"
   ]
  },
  {
   "cell_type": "code",
   "execution_count": 26,
   "id": "1294c5a0-6a2c-4bd0-9bd4-c343033d2b9f",
   "metadata": {
    "tags": []
   },
   "outputs": [
    {
     "data": {
      "text/plain": [
       "[Document(page_content='With the Restore Beneﬁt of Optima Secure, if any claim, partial \\nor total, is made any time during the year, then 100% of the \\nbase cover gets restored in the policy cover automatically, \\nat no additional cost!100% restore coverageRestore BeneﬁtGet So Much Coverage* Guaranteed^^', metadata={})]"
      ]
     },
     "execution_count": 26,
     "metadata": {},
     "output_type": "execute_result"
    }
   ],
   "source": [
    "texts"
   ]
  },
  {
   "cell_type": "markdown",
   "id": "2c871353-510c-4f1e-96bd-8a696553c4f0",
   "metadata": {
    "tags": []
   },
   "source": [
    "## Embedd the documents in the vectorstor "
   ]
  },
  {
   "cell_type": "code",
   "execution_count": 27,
   "id": "54b91e77-f8ce-447b-b807-514c7304125c",
   "metadata": {
    "tags": []
   },
   "outputs": [],
   "source": [
    "embeddings = OpenAIEmbeddings(openai_api_key=OPENAI_API_KEY, model=\"text-embedding-ada-002\")\n",
    "vectorstore = Chroma.from_documents(data,embedding=embeddings, persist_directory=\"./chroma_db_pdf\")"
   ]
  },
  {
   "cell_type": "code",
   "execution_count": null,
   "id": "54d35e49-6a7a-46eb-bc96-886b01f3183a",
   "metadata": {
    "tags": []
   },
   "outputs": [],
   "source": []
  },
  {
   "cell_type": "code",
   "execution_count": 34,
   "id": "aacb4bda-6b55-4761-89e4-da505ed6abd1",
   "metadata": {
    "tags": []
   },
   "outputs": [],
   "source": [
    "from langchain.chains import RetrievalQA\n",
    "from langchain.indexes import VectorstoreIndexCreator\n",
    "from langchain.text_splitter import CharacterTextSplitter\n",
    "from langchain.embeddings import OpenAIEmbeddings\n",
    "from langchain.vectorstores import Chroma\n",
    "\n",
    "retriever = vectorstore.as_retriever(search_type=\"similarity\", search_kwargs={\"k\":2})\n",
    "\n",
    "# create a chain to answer questions \n",
    "qa = RetrievalQA.from_chain_type(\n",
    "    llm=OpenAI(openai_api_key=OPENAI_API_KEY), \n",
    "    chain_type=\"stuff\", \n",
    "    retriever=retriever, \n",
    "    return_source_documents=True,\n",
    "    verbose=True)"
   ]
  },
  {
   "cell_type": "code",
   "execution_count": 36,
   "id": "47cf467e-8275-4129-9d05-6d4c5ac29bc6",
   "metadata": {
    "tags": []
   },
   "outputs": [],
   "source": [
    "def print_res(res):\n",
    "    print(res['result'])\n",
    "    print(\"Docs::\")\n",
    "    for i, doc in enumerate(res[\"source_documents\"]):\n",
    "        print(f'{i}')\n",
    "        print(doc.page_content)"
   ]
  },
  {
   "cell_type": "code",
   "execution_count": 39,
   "id": "a1dd78d3-be00-4f07-9a1a-5ff257e0c509",
   "metadata": {
    "tags": []
   },
   "outputs": [
    {
     "name": "stdout",
     "output_type": "stream",
     "text": [
      "\n",
      "\n",
      "\u001b[1m> Entering new  chain...\u001b[0m\n",
      "\n",
      "\u001b[1m> Finished chain.\u001b[0m\n",
      " Hospitalization expenses can include tests, medicine purchases, doctor visits, nursing charges, daily cash of INR 800 per day up to a maximum of INR 4800 on hospitalization, peripheral costs incurred by the patient or their caregiver on travelling, food, lodging, and so on.\n",
      "Docs::\n",
      "0\n",
      "Domiciliary hospitalisation\n",
      "Secures all medical expenses during Domiciliary hospitalisation. \n",
      "Organ donor expenses\n",
      "Get reimbursements for medical expenses incurred for organ donor’s \n",
      "in-patient treatment for harvesting of the organ donated.\n",
      "Emergency air ambulance\n",
      "The policy pays for air ambulance transportation services during \n",
      "your emergency needs.\n",
      "This option gives discount on your premiums, by opting to pay an \n",
      "initial deductible amount for claims made in any policy year.\n",
      "25,000 25%\n",
      "40%\n",
      "50%15%\n",
      "30%\n",
      "40%50,000\n",
      "100,000Deductible AmountBase Sum Insured\n",
      "up to 20 lakhsBase Sum Insured\n",
      "above 20 lakhsAggregate deductible\n",
      "Value buy\n",
      "You can choose any deductible amount and enjoy up to 50% discount on your premium.\n",
      "The following discounts will be applicable on the policy premium:So Much More Coverage\n",
      "So Much Choice\n",
      "1\n",
      "Introduction  \n",
      "60 and 180 days pre and post \n",
      "hospitalisation covered\n",
      "Instead of 30 and 90 days avail ed normally, Optima Secure covers \n",
      "medical expenses for 60 days pre and 180 days post hospitalisation.\n",
      "These cover tests, medicine purchases and other medical expenses that \n",
      "Mr. Sharma has incurred during these aforementioned days.\n",
      "Home healthcare\n",
      "This policy covers treatment availed from comfort of homes, and as \n",
      "per everyone’s convenience on cashless basis.\n",
      "So, during Mr. Sharma’s home treatment, which in normal course \n",
      "would have required hospitalisation, all his medical expenses \n",
      "including doctor visits, nursing charges, etc. get covered by it. \n",
      "Daily cash for shared room\n",
      "With this, daily cash of INR 800 per day up to a maximum of \n",
      "INR 4800 on hospitalisation is provided as out of pocket expenses \n",
      "when you choose a shared accommodation in a network hospital, \n",
      "and the hospitalisation period exceeds 48 hours.\n",
      "These include all the peripheral costs incurred by Mr. Sharma or his \n",
      "caregiver on travelling, food, lodging and so on, which is incurred at the \n",
      "time of claim.So Much More Coverage\n"
     ]
    }
   ],
   "source": [
    "query = \"What all are covered in hospitalization expenses?\"\n",
    "result = qa({\"query\": query})\n",
    "\n",
    "print_res(result)"
   ]
  },
  {
   "cell_type": "code",
   "execution_count": null,
   "id": "9ce5fdae-e839-49a4-83de-8113eeecea97",
   "metadata": {
    "tags": []
   },
   "outputs": [],
   "source": [
    "result"
   ]
  },
  {
   "cell_type": "code",
   "execution_count": null,
   "id": "b100cb1b-0544-4138-884b-6f1e75a6cd6b",
   "metadata": {
    "tags": []
   },
   "outputs": [],
   "source": [
    "query = \"How to use neural networks to train Alexnet?\"\n",
    "result_02 = qa({\"query\": query})\n"
   ]
  },
  {
   "cell_type": "code",
   "execution_count": null,
   "id": "7e51cc66-a61a-49f7-b95c-be2c022473de",
   "metadata": {
    "tags": []
   },
   "outputs": [],
   "source": [
    "print_res(result_02)"
   ]
  },
  {
   "cell_type": "code",
   "execution_count": null,
   "id": "41d4bdba-ffc9-4d46-aac4-e4921ade55bf",
   "metadata": {
    "tags": []
   },
   "outputs": [],
   "source": [
    "result_02"
   ]
  },
  {
   "cell_type": "code",
   "execution_count": null,
   "id": "0c69a82f-dc21-4a4b-bdb4-68b36b92993b",
   "metadata": {},
   "outputs": [],
   "source": []
  }
 ],
 "metadata": {
  "kernelspec": {
   "display_name": "llama",
   "language": "python",
   "name": "llama"
  },
  "language_info": {
   "codemirror_mode": {
    "name": "ipython",
    "version": 3
   },
   "file_extension": ".py",
   "mimetype": "text/x-python",
   "name": "python",
   "nbconvert_exporter": "python",
   "pygments_lexer": "ipython3",
   "version": "3.10.11"
  }
 },
 "nbformat": 4,
 "nbformat_minor": 5
}
